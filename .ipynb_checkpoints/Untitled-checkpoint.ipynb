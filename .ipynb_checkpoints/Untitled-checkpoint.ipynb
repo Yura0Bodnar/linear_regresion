{
 "cells": [
  {
   "cell_type": "raw",
   "source": [],
   "metadata": {
    "collapsed": false
   },
   "id": "d2b672a083cbb6d5"
  }
 ],
 "metadata": {},
 "nbformat": 4,
 "nbformat_minor": 5
}
